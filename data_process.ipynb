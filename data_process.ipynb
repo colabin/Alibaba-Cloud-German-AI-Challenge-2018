{
 "cells": [
  {
   "cell_type": "code",
   "execution_count": 8,
   "metadata": {},
   "outputs": [],
   "source": [
    "import os\n",
    "import h5py\n",
    "import numpy as np\n",
    "np.random.seed(8102)"
   ]
  },
  {
   "cell_type": "code",
   "execution_count": 11,
   "metadata": {},
   "outputs": [],
   "source": [
    "def slipt(path,ouputs1,ouputs2,nums):\n",
    "    fid = h5py.File(os.path.expanduser(path),'r')\n",
    "    labels=np.argmax(fid['label'],1)\n",
    "    distrib = np.bincount(labels)\n",
    "    prob = 1/distrib[labels].astype(float)\n",
    "    prob /= prob.sum()\n",
    "    ll=len(labels)\n",
    "    print(ll)\n",
    "    select=np.random.choice(np.arange(ll), size=nums,replace=False,p=prob)\n",
    "    labels= np.argmax(np.array([fid['label'][i] for i in select]),1)\n",
    "    distrib2 = np.bincount(labels)\n",
    "    print(distrib2)\n",
    "    print(\"random seed is \"+str(distrib2[-1]==65))\n",
    "    f=h5py.File(ouputs1)\n",
    "    t_index=select.tolist()\n",
    "    t_index.sort()\n",
    "    label=np.array(fid['label'][t_index])\n",
    "    sen1=np.array(fid['sen1'][t_index])\n",
    "    sen2=np.array(fid['sen2'][t_index])\n",
    "    f.create_dataset('label',data=label)\n",
    "    f.create_dataset('sen1',data=sen1)\n",
    "    f.create_dataset('sen2',data=sen2)\n",
    "    f.close()\n",
    "    f=h5py.File(ouputs2)\n",
    "    alltag=np.arange(ll)\n",
    "    legacy=np.setdiff1d(alltag,select)\n",
    "    l_index=legacy.tolist()\n",
    "    l_index.sort()\n",
    "    label=np.array(fid['label'][l_index])\n",
    "    sen1=np.array(fid['sen1'][l_index])\n",
    "    sen2=np.array(fid['sen2'][l_index])\n",
    "    f.create_dataset('label',data=label)\n",
    "    f.create_dataset('sen1',data=sen1)\n",
    "    f.create_dataset('sen2',data=sen2)\n",
    "    f.close()\n",
    "    print(\"done\")\n",
    "\n"
   ]
  },
  {
   "cell_type": "code",
   "execution_count": 6,
   "metadata": {},
   "outputs": [
    {
     "name": "stdout",
     "output_type": "stream",
     "text": [
      "24119\n",
      "[66 60 48 52 65 61 67 66 62 58 69 62 49 51 50 49 65]\n",
      "random seed is True\n",
      "done\n"
     ]
    }
   ],
   "source": [
    "slipt('./data/validation.h5','./data/acc1000.h5','./data/mega1.h5',1000)"
   ]
  },
  {
   "cell_type": "code",
   "execution_count": 12,
   "metadata": {},
   "outputs": [
    {
     "name": "stdout",
     "output_type": "stream",
     "text": [
      "352366\n",
      "[192 183 159 151 172 170 189 176 187 185 172 173 167 210 166 174 174]\n",
      "random seed is False\n",
      "done\n"
     ]
    }
   ],
   "source": [
    "slipt('./data/training.h5','./data/acc3000.h5','./data/mega2.h5',3000)"
   ]
  },
  {
   "cell_type": "code",
   "execution_count": 9,
   "metadata": {},
   "outputs": [],
   "source": [
    "def merge(path1,path2,output):\n",
    "    f1=h5py.File(os.path.expanduser(path1),'r')\n",
    "    f2=h5py.File(os.path.expanduser(path2),'r')\n",
    "    mergef=h5py.File(output)\n",
    "    label=np.concatenate(\n",
    "    (np.array(f1['label']),np.array(f2['label'])),axis=0\n",
    "    )\n",
    "    sen1=np.concatenate(\n",
    "    (np.array(f1['sen1']),np.array(f2['sen1'])),axis=0\n",
    "    )\n",
    "    sen2=np.concatenate(\n",
    "    (np.array(f1['sen2']),np.array(f2['sen2'])),axis=0\n",
    "    )\n",
    "    mergef.create_dataset('label',data=label)\n",
    "    mergef.create_dataset('sen1',data=sen1)\n",
    "    mergef.create_dataset('sen2',data=sen2)\n",
    "    f1.close()\n",
    "    f2.close()\n",
    "    mergef.close()\n"
   ]
  },
  {
   "cell_type": "code",
   "execution_count": null,
   "metadata": {},
   "outputs": [],
   "source": [
    "merge('./data/mega1.h5','./data/mega2.h5','./data/mega.h5')"
   ]
  },
  {
   "cell_type": "code",
   "execution_count": 14,
   "metadata": {},
   "outputs": [],
   "source": [
    "merge('./data/acc3000.h5','./data/acc1000.h5','./data/acc4000.h5')"
   ]
  },
  {
   "cell_type": "code",
   "execution_count": 23,
   "metadata": {},
   "outputs": [],
   "source": [
    "def weighted_data_generate(batch_size,path):\n",
    "    fid = h5py.File(os.path.expanduser(path),'r')\n",
    "    labels=np.argmax(fid['label'],1)\n",
    "    distrib = np.bincount(labels)\n",
    "    prob = 1/distrib[labels].astype(float)\n",
    "    prob /= prob.sum()\n",
    "    lens=len(labels)\n",
    "    while(True):\n",
    "        bingo=np.random.choice(np.arange(lens), batch_size, replace=False,p=prob)\n",
    "        bingo.sort()\n",
    "        bingo=bingo.tolist()\n",
    "        y_b = np.array(fid['label'][bingo])\n",
    "        x_b = np.array(fid['sen2'][bingo])\n",
    "        yield x_b, y_b\n",
    "# 使用范例\n",
    "# f=weighted_data_generate(os.path.expanduser(\"./data/training.h5\"), 512,False)\n",
    "# for i in range(10):\n",
    "#     x,y=f.__next__()\n",
    "#     print(np.sum(y,0))      "
   ]
  },
  {
   "cell_type": "code",
   "execution_count": 24,
   "metadata": {},
   "outputs": [
    {
     "name": "stdout",
     "output_type": "stream",
     "text": [
      "[44. 52. 56. 49. 53. 52. 41. 48. 57. 47. 45. 44. 37. 38. 47. 48. 42.]\n",
      "[46. 47. 47. 52. 55. 46. 44. 46. 48. 45. 55. 50. 43. 40. 38. 51. 47.]\n",
      "[57. 49. 50. 41. 46. 43. 46. 39. 50. 49. 49. 49. 48. 48. 45. 47. 44.]\n",
      "[42. 44. 50. 49. 42. 48. 38. 43. 50. 41. 50. 51. 45. 52. 49. 52. 54.]\n",
      "[48. 44. 43. 38. 38. 50. 53. 55. 43. 52. 48. 40. 43. 48. 52. 53. 52.]\n",
      "[46. 46. 51. 37. 39. 33. 51. 51. 45. 57. 46. 66. 34. 48. 52. 45. 53.]\n",
      "[50. 40. 43. 47. 45. 44. 49. 36. 47. 48. 46. 55. 44. 45. 50. 45. 66.]\n",
      "[36. 62. 48. 34. 50. 41. 45. 51. 52. 53. 48. 52. 50. 40. 54. 54. 30.]\n",
      "[50. 43. 47. 51. 44. 52. 47. 58. 47. 42. 45. 66. 44. 39. 38. 32. 55.]\n",
      "[48. 46. 48. 49. 46. 54. 50. 41. 51. 57. 37. 36. 56. 42. 52. 41. 46.]\n"
     ]
    }
   ],
   "source": [
    "f=weighted_data_generate(800,'./data/train372485.h5')\n",
    "for i in range(10):\n",
    "    x,y=f.__next__()\n",
    "    print(np.sum(y,0))"
   ]
  },
  {
   "cell_type": "code",
   "execution_count": 49,
   "metadata": {},
   "outputs": [
    {
     "name": "stdout",
     "output_type": "stream",
     "text": [
      "[8 3 2 5 1]\n"
     ]
    },
    {
     "data": {
      "text/plain": [
       "array([8, 3, 2, 5, 1])"
      ]
     },
     "execution_count": 49,
     "metadata": {},
     "output_type": "execute_result"
    }
   ],
   "source": [
    "a=np.random.choice(np.arange(10), 5, replace=False)\n",
    "print(a)\n",
    "b=np.array(range(10))\n",
    "b[a]"
   ]
  },
  {
   "cell_type": "code",
   "execution_count": 7,
   "metadata": {},
   "outputs": [
    {
     "name": "stdout",
     "output_type": "stream",
     "text": [
      "[ 4876 24248 31534  8500 16321 35120  3080 39150 13397 11769 42730  9341\n",
      "  8998 41167  2226  7724 49185]\n",
      "[14  6  0 15  3 12 11  9  8  4  1  2  5  7 13 10 16]\n",
      "[14  6  0 15  3 12 11  9  8  4  1  2  5  7 13 10 16]\n"
     ]
    }
   ],
   "source": [
    "fid = h5py.File(os.path.expanduser('./data/mega2.h5'),'r')\n",
    "labels=np.argmax(fid['label'],1)\n",
    "distrib = np.bincount(labels)\n",
    "print(distrib)\n",
    "a=[1.00048,1.00242,1.00315,1.00085,1.00163,1.00351,1.00030,1.00391,1.00133,1.00117,1.00427,1.00093,1.00089,1.00411,1.00022,1.00077,1.00491]\n",
    "print(np.argsort(distrib))\n",
    "print(np.argsort(a))"
   ]
  }
 ],
 "metadata": {
  "kernelspec": {
   "display_name": "Python 3",
   "language": "python",
   "name": "python3"
  },
  "language_info": {
   "codemirror_mode": {
    "name": "ipython",
    "version": 3
   },
   "file_extension": ".py",
   "mimetype": "text/x-python",
   "name": "python",
   "nbconvert_exporter": "python",
   "pygments_lexer": "ipython3",
   "version": "3.6.7"
  }
 },
 "nbformat": 4,
 "nbformat_minor": 2
}
